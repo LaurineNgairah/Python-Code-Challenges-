{
 "cells": [
  {
   "cell_type": "markdown",
   "id": "b8ec5bf8",
   "metadata": {},
   "source": [
    "1.Based on the plot, which of the following best describes the pattern observed?\n",
    "\n",
    "![Markdown](Scatter_plot.png)\n",
    "\n",
    "\n",
    "#### Answer: The data indicates a non-linear relationship, with 'Standard_yield' showing variability at different levels of 'Rainfall'."
   ]
  },
  {
   "cell_type": "markdown",
   "id": "5894ace4",
   "metadata": {},
   "source": [
    "2.Which weather station is linked to the most number of fields?\n",
    "\n",
    "4\n",
    "\n",
    "2\n",
    "\n",
    "1\n",
    "\n",
    "3\n",
    "\n",
    "0\n",
    "#### Answer: 0\n",
    "\n",
    "##### Code: \n",
    "station_counts = MD_agric_df.groupby('Weather_station')['Field_ID'].count() \n",
    "\n",
    "station_counts"
   ]
  },
  {
   "cell_type": "markdown",
   "id": "bb1282f3",
   "metadata": {},
   "source": [
    "3.An environmental monitoring station has updated its rainfall data transmission format. The current regex pattern for capturing rainfall data is not compatible with this new format. Given the existing pattern:\n",
    "\n",
    "'Rainfall': r'(\\d+(\\.\\d+)?)\\s?mm',\n",
    "\n",
    "The new message format is as follows:\n",
    "\n",
    "\"Rainfall Update: In the last 24 hours, there has been rainfall amounting to 25 millimetres as of 2024-01-31 10:00.\"\n",
    "\n",
    "Which of the following modifications to the regex pattern will accurately capture the rainfall data in both the new and existing message formats?\n",
    "\n",
    "r'(\\d+(\\.\\d+)?)\\s*millimetres':captures the rainfall amount followed by the units \"millimetres\".It does not account for the variation in units (e.g., \"mm\").\n",
    "\n",
    "r'rainfall\\samounting\\s*to\\s(\\d+(\\.\\d+)?)': captures the rainfall amount but expects the specific phrase \"rainfall amounting to\".\n",
    "\n",
    "r'(\\d+(\\.\\d+)?)\\s?(mm|millimetres)': captures the rainfall amount along with the units \"mm\" or \"millimetres\". \n",
    "\n",
    "r'In the last 24 hours, (\\d+(\\.\\d+)?)': captures the rainfall amount but does not include the units or the specific phrase \"Rainfall Update\".\n",
    "\n",
    "r'(\\d+(\\.\\d+)?)\\s?:  captures the rainfall amount but does not account for the units (mm or millimetres). It only captures the numeric value.\n",
    "\n",
    "#### Answer: r'(\\d+(\\.\\d+)?)\\s*(mm|millimetres)'\n"
   ]
  },
  {
   "cell_type": "markdown",
   "id": "c82beded",
   "metadata": {},
   "source": [
    "4.Which of the following crops have a strong positive linear relationship between Standard_Yield and pH?\n",
    "\n",
    "Tea\n",
    "\n",
    "Banana\n",
    "\n",
    "Potato\n",
    "\n",
    "Cassava\n",
    "\n",
    "#### Answer: Cassava\n",
    "##### Code: \n",
    "correlation_matrix_1 = Crop_df.groupby('Crop_type')[['Standard_yield', 'pH']].corr().reset_index()\n",
    "\n",
    "print(correlation_matrix_1)\n"
   ]
  },
  {
   "cell_type": "markdown",
   "id": "86c0699a",
   "metadata": {},
   "source": [
    "5.What is the output of the following code?\n",
    "\n",
    "def function(input):\n",
    "    filtered_df = MD_agric_df[MD_agric_df['Crop_type'] == input]\n",
    "    fig = px.scatter(filtered_df, x='Elevation', y='Annual_yield', color='Crop_type')\n",
    "    fig.show()\n",
    "\n",
    "interact(function, input=MD_agric_df['Crop_type'].unique())\n",
    "\n",
    "An interactive scatter plot showing 'Elevation' vs 'Annual_yield' with different crop types displayed by colour.\n",
    "\n",
    "An interactive scatter plot showing 'Elevation' vs 'Annual_yield' for the selected crop type, with a dropdown to filter by different 'Crop_type'.\n",
    "\n",
    "An error message due to incorrect use of the interact function.\n",
    "\n",
    "A series of static scatter plots for each 'Crop_type', showing 'Elevation' vs 'Annual_yield', displayed all at once.\n",
    "\n",
    "#### Answer: An interactive scatter plot showing 'Elevation' vs 'Annual_yield' for the selected crop type, with a dropdown to filter by different 'Crop_type'."
   ]
  },
  {
   "cell_type": "markdown",
   "id": "101bc286",
   "metadata": {},
   "source": [
    "6.Which variable is least correlated with Standard_yield?\n",
    "\n",
    "Pollution_level\n",
    "\n",
    "Ave_temps\n",
    "\n",
    "Annual_yield\n",
    "\n",
    "Standard_yield\n",
    "\n",
    "#### Answer: Ave_temps"
   ]
  },
  {
   "cell_type": "markdown",
   "id": "7841843d",
   "metadata": {},
   "source": [
    "7.Which of the following variables has the strongest linear relationship?\n",
    "\n",
    "Pollution_level and pH\n",
    "\n",
    "Rainfall and Standard_yield\n",
    "\n",
    "Rainfall and Soil_fertility\n",
    "\n",
    "Ave_temps and Soil_fertility\n",
    "\n",
    "#### Answer: Rainfall and Soil_fertility\n",
    "\n",
    "#### Code\n",
    "\n",
    "correlation_pH_pollution = MD_agric_df['Pollution_level'].corr(MD_agric_df['pH'])\n",
    "\n",
    "correlation_Rainfall_Standard_yield = MD_agric_df['Rainfall'].corr(MD_agric_df['Standard_yield'])\n",
    "\n",
    "correlation_Rainfall_Soil_fertility = MD_agric_df['Rainfall'].corr(MD_agric_df['Soil_fertility'])\n",
    "\n",
    "correlation_Ave_temps_Soil_fertility = MD_agric_df['Ave_temps'].corr(MD_agric_df['Soil_fertility'])\n",
    "\n",
    "print(correlation_pH_pollution)\n",
    "\n",
    "print(correlation_Rainfall_Standard_yield)\n",
    "\n",
    "print(correlation_Rainfall_Soil_fertility)\n",
    "\n",
    "print(correlation_Ave_temps_Soil_fertility)\n"
   ]
  },
  {
   "cell_type": "markdown",
   "id": "c4d1b432",
   "metadata": {},
   "source": [
    "8.Create a KDE plot of the rainfall distribution and split the data by soil types.\n",
    "\n",
    "What can we infer from this graph?\n",
    "\n",
    "The distribution of rainfall in Peaty soils spans a range of more than 1500 mm.\n",
    "\n",
    "The maximum height of the Silty soil type distribution curve indicates that it is the most common soil type.\n",
    "\n",
    "Rocky, Sandy and Loamy soil types occur in places with rainfall > 1500 mm.\n",
    "\n",
    "Rocky, Sandy and Loamy soil types occur in places with rainfall < 1500 mm.\n",
    "\n",
    "#### Answer: Rocky, Sandy and Loamy soil types occur in places with rainfall < 1500 mm.\n",
    "\n",
    "##### Code: \n",
    "\n",
    "filtered_df = MD_agric_df.dropna(subset=['Soil_type'])\n",
    "\n",
    "\n",
    "plt.figure(figsize=(12, 8))\n",
    "\n",
    "for soil_type in filtered_df['Soil_type'].unique():\n",
    "\n",
    "    sns.kdeplot(data=filtered_df[filtered_df['Soil_type'] == soil_type]['Rainfall'], label=soil_type, shade=True)\n",
    "\n",
    "plt.xlabel('Rainfall')\n",
    "\n",
    "plt.ylabel('Density')\n",
    "\n",
    "plt.title('Rainfall Distribution by Soil Types')\n",
    "\n",
    "plt.legend(title='Soil Type')"
   ]
  },
  {
   "cell_type": "markdown",
   "id": "f3da096f",
   "metadata": {},
   "source": [
    "9.What can be inferred from the following plot?\n",
    "\n",
    "![Markdown](KDE_Question.png)\n",
    "\n",
    "Most of the fields in Maji Ndogo have a pollution rating less than 0.5.\n",
    "\n",
    "Most of the fields in Maji Ndogo have a pollution rating less than 3.\n",
    "\n",
    "The plot indicates an error in the data.\n",
    "\n",
    "The mean is smaller than the median.\n",
    "\n",
    "The maximum pollution level is 3.\n",
    "\n",
    "#### Answer: Most of the fields in Maji Ndogo have a pollution rating less than 0.5."
   ]
  },
  {
   "cell_type": "markdown",
   "id": "9abd1c04",
   "metadata": {},
   "source": [
    "10.Why is some of the data in the .describe() method in Pandas not meaningful?\n",
    "\n",
    "The method is limited in processing large datasets, potentially leading to less meaningful outputs for columns with extensive data.\n",
    "\n",
    "There's a programming constraint in Pandas that prevents accurate calculation of descriptive statistics for certain column types.\n",
    "\n",
    "For columns like Field_ID or Crop_type, which contain unique identifiers or categorical labels, the computed descriptive statistics such as mean and median do not hold practical significance.\n",
    "\n",
    "The method is not optimised for columns with mixed data types, leading to less meaningful or skewed statistical outputs.\n",
    "\n",
    "#### Answer: For columns like Field_ID or Crop_type, which contain unique identifiers or categorical labels, the computed descriptive statistics such as mean and median do not hold practical significance."
   ]
  },
  {
   "cell_type": "code",
   "execution_count": null,
   "id": "56dc0d73",
   "metadata": {},
   "outputs": [],
   "source": []
  }
 ],
 "metadata": {
  "kernelspec": {
   "display_name": "Python 3 (ipykernel)",
   "language": "python",
   "name": "python3"
  },
  "language_info": {
   "codemirror_mode": {
    "name": "ipython",
    "version": 3
   },
   "file_extension": ".py",
   "mimetype": "text/x-python",
   "name": "python",
   "nbconvert_exporter": "python",
   "pygments_lexer": "ipython3",
   "version": "3.11.5"
  }
 },
 "nbformat": 4,
 "nbformat_minor": 5
}
