{
 "cells": [
  {
   "cell_type": "markdown",
   "id": "f109d3df",
   "metadata": {},
   "source": [
    "1.What is the Big-O notation for the worst-case time complexity of the following function?\n",
    "\n",
    "def find_element(arr, x):\n",
    "    for element in arr:\n",
    "        if element == x:\n",
    "            return True\n",
    "    return False\n",
    "animal_list = [\"Lion\", \"Elephant\", \"Tiger\", \"Giraffe\", \"Zebra\", \"Panda\", \"Kangaroo\", \"Penguin\"]\n",
    "\n",
    "find_element(animal_list , \"Penguin\")"
   ]
  },
  {
   "cell_type": "code",
   "execution_count": null,
   "id": "fe31449d",
   "metadata": {},
   "outputs": [],
   "source": [
    "# O(n): \n",
    "\"\"\" This is the worst case time complexity as the time complexity of the \n",
    "given function find_element depends on the size of the input list arr and \n",
    "the position of the element x being searched for.In this case, the function \n",
    "would need to iterate through the entire list up until the last element \n",
    "before determining x. this function has a linear time complexity. \n",
    "This means that as the size of the input list grows, \n",
    "the time taken by the function to execute grows linearly.\"\"\""
   ]
  },
  {
   "cell_type": "markdown",
   "id": "e7a4eb7d",
   "metadata": {},
   "source": [
    "2.Rearrange the following lines to correctly implement a bubble sort algorithm for a list.\n",
    "\n",
    "What is the output if…\n",
    "\n",
    "def bubble_sort(items):\n",
    "return items\n",
    "for j in range(len(items)-1-i):\n",
    "if items[j] > items[j+1]:\n",
    "\"\"\" Implementation of bubble sort.\"\"\"\n",
    "items[j], items[j+1] = items[j+1], items[j]\n",
    "for i in range(len(items)):\n"
   ]
  },
  {
   "cell_type": "code",
   "execution_count": 1,
   "id": "9163c307",
   "metadata": {},
   "outputs": [
    {
     "data": {
      "text/plain": [
       "[11, 12, 22, 25, 34, 64, 90]"
      ]
     },
     "execution_count": 1,
     "metadata": {},
     "output_type": "execute_result"
    }
   ],
   "source": [
    "def bubble_sort(items):\n",
    "    \"\"\" Implementation of bubble sort.\"\"\"\n",
    "    for i in range(len(items)):\n",
    "        for j in range(len(items)-1-i):\n",
    "            if items[j] > items[j+1]:\n",
    "                items[j], items[j+1] = items[j+1], items[j]\n",
    "    return items \n",
    "\n",
    "\n",
    "bubble_sort([64, 34, 25, 12, 22, 11, 90])"
   ]
  },
  {
   "cell_type": "code",
   "execution_count": null,
   "id": "31c508e4",
   "metadata": {},
   "outputs": [],
   "source": [
    "# Output = [11, 12, 22, 25, 34, 64, 90] for [64, 34, 25, 12, 22, 11, 90"
   ]
  },
  {
   "cell_type": "markdown",
   "id": "4f051cfa",
   "metadata": {},
   "source": [
    "3.Rearrange the following code to correctly define a Python class representing a BankAccount with a method to deposit funds.\n",
    "\n",
    "Which of the following lines of code will open a new bank account with a balance of 100, deposit an additional 50, and print the balance?\n",
    "\n",
    "def deposit(self, amount):\n",
    " self.balance += amount\n",
    "class BankAccount:\n",
    " def __init__(self, balance):\n",
    " self.balance = balance"
   ]
  },
  {
   "cell_type": "code",
   "execution_count": 2,
   "id": "fae6ed89",
   "metadata": {},
   "outputs": [
    {
     "name": "stdout",
     "output_type": "stream",
     "text": [
      "150\n"
     ]
    }
   ],
   "source": [
    "class BankAccount:\n",
    "    def __init__(self, balance):\n",
    "        self.balance = balance\n",
    "    \n",
    "    def deposit(self, amount):\n",
    "        self.balance += amount\n",
    "        \n",
    "account = BankAccount(100)\n",
    "account.deposit(50)\n",
    "print(account.balance)"
   ]
  },
  {
   "cell_type": "code",
   "execution_count": 3,
   "id": "068fa87e",
   "metadata": {},
   "outputs": [],
   "source": [
    "# 150 for account = BankAccount(100); account.deposit(50); print(account.balance)"
   ]
  },
  {
   "cell_type": "markdown",
   "id": "3ff88a85",
   "metadata": {},
   "source": [
    "4.Rearrange the following lines to create a function that uses recursion to reverse a string.\n",
    "\n",
    "Which of the following answers is correct, given the correctly rearranged code and function calls provided?\n",
    "\n",
    "if len(s) == 0:\n",
    "return s\n",
    "return r(s[1:]) + s[0]\n",
    "def r(s)"
   ]
  },
  {
   "cell_type": "code",
   "execution_count": 4,
   "id": "9a35f7d4",
   "metadata": {},
   "outputs": [
    {
     "data": {
      "text/plain": [
       "'gnimmargorp'"
      ]
     },
     "execution_count": 4,
     "metadata": {},
     "output_type": "execute_result"
    }
   ],
   "source": [
    "def r(s):\n",
    "    if len(s) == 0:\n",
    "        return s\n",
    "    return r(s[1:]) + s[0]\n",
    "\n",
    "r('programming')"
   ]
  },
  {
   "cell_type": "code",
   "execution_count": null,
   "id": "6660bafc",
   "metadata": {},
   "outputs": [],
   "source": [
    "#'gnimmargorp' for r('programming') "
   ]
  },
  {
   "cell_type": "markdown",
   "id": "85607c13",
   "metadata": {},
   "source": [
    "5.What is the lambda expression required to filter out negative numbers from a list:\n",
    "\n",
    "numbers = [-2, 5, -9, 8, -1, 10]\n",
    "result = filter(, numbers)\n",
    "print(list(result))"
   ]
  },
  {
   "cell_type": "code",
   "execution_count": 5,
   "id": "317d9429",
   "metadata": {},
   "outputs": [
    {
     "name": "stdout",
     "output_type": "stream",
     "text": [
      "[5, 8, 10]\n"
     ]
    }
   ],
   "source": [
    "numbers = [-2, 5, -9, 8, -1, 10]\n",
    "result = filter(lambda x: x >= 0, numbers)\n",
    "print(list(result))"
   ]
  },
  {
   "cell_type": "code",
   "execution_count": null,
   "id": "a9d850d0",
   "metadata": {},
   "outputs": [],
   "source": [
    "# lambda x: x >= 0"
   ]
  },
  {
   "cell_type": "markdown",
   "id": "6eee660e",
   "metadata": {},
   "source": [
    "6.Rearrange the following code to correctly implement a Python class for a Circle, including a method to calculate the circumference.\n",
    "\n",
    "Which of the following options give the correct answer, given that the radius of the circle is 3?\n",
    "\n",
    "def __init__(self, radius):\n",
    "self.radius = radius\n",
    "return 2 * 3.14159 * self.radius\n",
    "class Circle:\n",
    "def circumference(self):"
   ]
  },
  {
   "cell_type": "code",
   "execution_count": 7,
   "id": "a28e3e88",
   "metadata": {},
   "outputs": [
    {
     "data": {
      "text/plain": [
       "18.849539999999998"
      ]
     },
     "execution_count": 7,
     "metadata": {},
     "output_type": "execute_result"
    }
   ],
   "source": [
    "class Circle:\n",
    "    def __init__(self, radius):\n",
    "        self.radius = radius\n",
    "    def circumference(self):\n",
    "        return 2 * 3.14159 * self.radius\n",
    "    \n",
    "    \n",
    "# Create an instance of Circle with radius 3\n",
    "circle = Circle(3)\n",
    "\n",
    "# Calculate the circumference\n",
    "Circle(3).circumference()"
   ]
  },
  {
   "cell_type": "code",
   "execution_count": null,
   "id": "0a3410a8",
   "metadata": {},
   "outputs": [],
   "source": [
    "# 18.849539999999998 for Circle(3).circumference()"
   ]
  },
  {
   "cell_type": "markdown",
   "id": "954aaabb",
   "metadata": {},
   "source": [
    "7.Rearrange the following code to correctly define a Python class representing a rectangle, which includes methods for calculating area and perimeter. \n",
    "\n",
    "What will be the output of the following code?\n",
    "\n",
    "return 2 * (self.width + self.height)\n",
    "def perimeter(self):\n",
    "return self.width * self.height\n",
    "class Rectangle:\n",
    "def __init__(self, width, height):\n",
    "self.width = width\n",
    "self.height = height\n",
    "def area(self):\n",
    "\n",
    "rect = Rectangle(3, 4)\n",
    "print(\"Area:\", rect.area(), \"Perimeter:\", rect.perimeter())"
   ]
  },
  {
   "cell_type": "code",
   "execution_count": 8,
   "id": "2aff0098",
   "metadata": {},
   "outputs": [
    {
     "name": "stdout",
     "output_type": "stream",
     "text": [
      "Area: 12 Perimeter: 14\n"
     ]
    }
   ],
   "source": [
    "class Rectangle:\n",
    "    \n",
    "    def __init__(self, width, height):\n",
    "        self.width = width\n",
    "        self.height = height\n",
    "        \n",
    "    def area(self):\n",
    "        return self.width * self.height\n",
    "    \n",
    "    def perimeter(self):\n",
    "        return 2 * (self.width + self.height)\n",
    "    \n",
    "rect = Rectangle(3, 4)\n",
    "print(\"Area:\", rect.area(), \"Perimeter:\", rect.perimeter())"
   ]
  },
  {
   "cell_type": "code",
   "execution_count": null,
   "id": "ca9ee0a9",
   "metadata": {},
   "outputs": [],
   "source": [
    "# Area: 12 Perimeter: 14"
   ]
  },
  {
   "cell_type": "markdown",
   "id": "017f7e37",
   "metadata": {},
   "source": [
    "8.Rearrange the following lines of code to create a lambda function that squares each number in a list, using the map function:\n",
    "\n",
    "print(list(result))\n",
    "result = map(lambda x: x**2, numbers)\n",
    "numbers = [1, 2, 3, 4, 5]"
   ]
  },
  {
   "cell_type": "code",
   "execution_count": 9,
   "id": "96a6eacc",
   "metadata": {},
   "outputs": [
    {
     "name": "stdout",
     "output_type": "stream",
     "text": [
      "[1, 4, 9, 16, 25]\n"
     ]
    }
   ],
   "source": [
    "numbers = [1, 2, 3, 4, 5]\n",
    "result = map(lambda x: x**2, numbers)\n",
    "print(list(result))\n",
    "\n",
    "numbers = [1, 2, 3, 4, 5]"
   ]
  },
  {
   "cell_type": "code",
   "execution_count": null,
   "id": "c38204fd",
   "metadata": {},
   "outputs": [],
   "source": [
    "# [1, 4, 9, 16, 25]"
   ]
  },
  {
   "cell_type": "markdown",
   "id": "9e991ad0",
   "metadata": {},
   "source": [
    "9.Identify the line that violates the PEP 8 style guidelines:\n",
    "\n",
    "class ExampleClass:\n",
    "def __init__(self,value):\n",
    "self.value = value\n",
    "def get_value(self):\n",
    "return self.value"
   ]
  },
  {
   "cell_type": "code",
   "execution_count": null,
   "id": "a2724785",
   "metadata": {},
   "outputs": [],
   "source": [
    "# def __init__(self,value): \n",
    "# Because it does not have white space in between the inputs as per the PEP 8 guidelines."
   ]
  },
  {
   "cell_type": "markdown",
   "id": "a158ec79",
   "metadata": {},
   "source": [
    "10.The following Python code is meant to calculate the total area of two different shapes, but it contains an error. Identify and correct the error.\n",
    "\n",
    "\n",
    "class Shape:\n",
    "    def __init__(self, name):\n",
    "        self.name = name\n",
    "\n",
    "class Circle(Shape):\n",
    "    def __init__(self, radius):\n",
    "        super().__init__(\"Circle\")\n",
    "        self.radius = radius\n",
    "\n",
    "    def area(self):\n",
    "        return 3.14 * self.radius * self.radius\n",
    "class Square(Shape):\n",
    "    def __init__(self, side):\n",
    "        super().__init__(\"Square\")\n",
    "        self.side = side\n",
    "\n",
    "    def area(self):\n",
    "        return self.side * self.side\n",
    "\n",
    "circle = Circle(3)\n",
    "square = Square(4)\n",
    "total_area = circle.area + square.area\n",
    "print(\"Total Area:\", total_area)"
   ]
  },
  {
   "cell_type": "code",
   "execution_count": 10,
   "id": "6589e4d0",
   "metadata": {},
   "outputs": [
    {
     "name": "stdout",
     "output_type": "stream",
     "text": [
      "Total Area: 44.26\n"
     ]
    }
   ],
   "source": [
    "class Shape:\n",
    "    def __init__(self, name):\n",
    "        self.name = name\n",
    "\n",
    "class Circle(Shape):\n",
    "    def __init__(self, radius):\n",
    "        super().__init__(\"Circle\")\n",
    "        self.radius = radius\n",
    "\n",
    "    def area(self):\n",
    "        return 3.14 * self.radius * self.radius\n",
    "class Square(Shape):\n",
    "    def __init__(self, side):\n",
    "        super().__init__(\"Square\")\n",
    "        self.side = side\n",
    "\n",
    "    def area(self):\n",
    "        return self.side * self.side\n",
    "\n",
    "circle = Circle(3)\n",
    "square = Square(4)\n",
    "total_area = circle.area() + square.area()\n",
    "print(\"Total Area:\", total_area)"
   ]
  },
  {
   "cell_type": "code",
   "execution_count": null,
   "id": "d2965246",
   "metadata": {},
   "outputs": [],
   "source": [
    "# The error is that circle.area and square.area are method references, not method calls.\n",
    "\"\"\" The area is treated as an attribute, but it's a method of the classes Circle and Square. \n",
    "Therefore we should add the brackets() when calling a method \"\"\""
   ]
  }
 ],
 "metadata": {
  "kernelspec": {
   "display_name": "Python 3 (ipykernel)",
   "language": "python",
   "name": "python3"
  },
  "language_info": {
   "codemirror_mode": {
    "name": "ipython",
    "version": 3
   },
   "file_extension": ".py",
   "mimetype": "text/x-python",
   "name": "python",
   "nbconvert_exporter": "python",
   "pygments_lexer": "ipython3",
   "version": "3.11.5"
  }
 },
 "nbformat": 4,
 "nbformat_minor": 5
}
