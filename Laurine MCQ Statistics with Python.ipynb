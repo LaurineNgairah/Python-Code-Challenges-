{
 "cells": [
  {
   "cell_type": "markdown",
   "id": "e314993d",
   "metadata": {},
   "source": [
    "## 1.Given the normal distribution of test completion times with a mean of 65 minutes and a standard deviation of 23 minutes, which snippet of code will correctly calculate the probability that a completion time will be between 40 and 100 minutes.\n",
    "\n",
    "probability = norm.cdf(65, 100, 40) - norm.cdf(23, 100, 40)\n",
    "\n",
    "probability = norm.pmf(100, 65, 23) - norm.pmf(40, 65, 23)\n",
    "\n",
    "probability = norm.pdf(100, 65, 23) - norm.pdf(40, 65, 23)\n",
    "\n",
    "probability = norm.cdf(100, mean, std_dev) - norm.cdf(40, mean, std_dev)\n",
    "\n",
    "#### Answer: probability = norm.cdf(100, mean, std_dev) - norm.cdf(40, mean, std_dev)\n",
    "\n",
    "When we want to find the probability that a continuous random variable falls within a certain range (e.g., between 40 and 100 minutes), we need to consider the area under the probability density function (PDF) of the normal distribution within that range. We use to calculate probabilities because it gives us the probability that a random variable is less than or equal to a given value. "
   ]
  },
  {
   "cell_type": "code",
   "execution_count": 5,
   "id": "bbf69b66",
   "metadata": {},
   "outputs": [
    {
     "data": {
      "text/plain": [
       "0.7974347581412062"
      ]
     },
     "execution_count": 5,
     "metadata": {},
     "output_type": "execute_result"
    }
   ],
   "source": [
    "from scipy.stats import norm\n",
    "mean = 65\n",
    "std_dev = 23\n",
    "probability = norm.cdf(100, mean, std_dev) - norm.cdf(40, mean, std_dev)\n",
    "probability"
   ]
  },
  {
   "cell_type": "markdown",
   "id": "5257692d",
   "metadata": {},
   "source": [
    "## 2. Match the data types with their examples and choose the correct combination:\n",
    "\n",
    "\n",
    "##### Example data\n",
    "lap_times = [92.9, 93.5, 91.6] # List of lap times in seconds\n",
    "\n",
    "doctors_kept_away = 3 # Number of doctors an apple keeps away\n",
    "\n",
    "race_position = \"Second\" # Finishing position in a relay race\n",
    "\n",
    "gender = \"Female\" # String describing genders\n",
    "\n",
    "i) lap_times are a continuous data type.\n",
    "\n",
    "ii) doctors_kept_away is a discrete variable.\n",
    "\n",
    "iii) race_position nominal data type.\n",
    "\n",
    "iv) gender is a nominal variable.\n",
    "\n",
    "\n",
    "\n",
    "\n",
    "i), iv)\n",
    "\n",
    "i)\n",
    "\n",
    "i), ii), iv)\n",
    "\n",
    "i), ii), iii), iv)\n",
    "\n",
    "#### Answer: i), ii), iv)"
   ]
  },
  {
   "cell_type": "markdown",
   "id": "e1b15de8",
   "metadata": {},
   "source": [
    "## 3. Fill in the missing inputs in the following code for plotting a normal probability density function, with mean = 0 and variance = 2:\n",
    "\n",
    "import numpy as np\n",
    "import matplotlib.pyplot as plt\n",
    "from scipy.stats import norm\n",
    "%matplotlib inline\n",
    "\n",
    "mu = 0\n",
    "variance = 2\n",
    "\n",
    "sigma = np.<Missing code>(variance),\n",
    "x = np.linspace(mu-3*variance, mu+3*variance, 100)\n",
    "    \n",
    "plt.plot(<Missing code>, <Missing code>.pdf(x, mu, sigma))\n",
    "    \n",
    "\n",
    "    \n",
    "log, norm, (x^3)\n",
    "    \n",
    "sqrt, poisson, x*mu\n",
    "    \n",
    "sqrt, norm, x\n",
    "    \n",
    "sqrt, poisson, x^3\n",
    "\n",
    "    \n",
    "    \n",
    "#### Answer:sqrt, norm, x\n",
    "\n",
    "We need to get the standard deviation from squareroot.    \n",
    "We plot the variable 'x', then we use norm.pdf(x, mu, sigma) to calculate the probability density function values corresponding to the x values generated."
   ]
  },
  {
   "cell_type": "markdown",
   "id": "906c9579",
   "metadata": {},
   "source": [
    "## 4. In Python, you have data representing a population with a mean (µ) of 50 and a standard deviation (σ) of 16. You draw a random sample of size n = 64. Write a Python snippet to calculate the standard deviation of the sample mean (\\bar{X}) and choose the correct output.\n",
    "\n",
    "1.2\n",
    "\n",
    "3.0\n",
    "\n",
    "5.4\n",
    "\n",
    "2.0\n",
    "\n",
    "#### Answer: 2.0"
   ]
  },
  {
   "cell_type": "code",
   "execution_count": 6,
   "id": "ca0a51fc",
   "metadata": {},
   "outputs": [
    {
     "name": "stdout",
     "output_type": "stream",
     "text": [
      "Standard error of the mean (SEM): 2.0\n"
     ]
    }
   ],
   "source": [
    "import numpy as np\n",
    "\n",
    "# Given data\n",
    "population_std_dev = 16\n",
    "sample_size = 64\n",
    "\n",
    "# Calculate the standard error of the mean (SEM)\n",
    "sem = population_std_dev / np.sqrt(sample_size)\n",
    "\n",
    "print(\"Standard error of the mean (SEM):\", sem)\n"
   ]
  },
  {
   "cell_type": "markdown",
   "id": "3e5ddd02",
   "metadata": {},
   "source": [
    "## 5. Given the Python code snippet below, complete the code, identify the correct null hypothesis (H_O), and state whether it is rejected based on the results from the code output:\n",
    "\n",
    "import numpy as np\n",
    "from scipy import stats\n",
    "\n",
    "student_scores = np.array([55, 62, 67, 58, 63, 59, 61, 68, 60, 64])\n",
    "mu = 60\n",
    "x_bar = np.mean(student_scores)\n",
    "s = np.std(student_scores, ddof=1)\n",
    "n = len(student_scores)\n",
    "alpha = 0.05\n",
    "<COMPLETE> = (x_bar - mu) / (s / np.sqrt(n))\n",
    "<COMPLETE> = stats.t.cdf(t_stat, df=n-1) if t_stat < 0 else (1 - stats.t.cdf(t_stat, df=n-1))\n",
    "<COMPLETE>*=2\n",
    "\n",
    "print(\"T statistic:\", t_stat)\n",
    "print(\"P-value:\", p_value)\n",
    "\n",
    "The null hypothesis, that the mean test score is equal to 60, is rejected.\n",
    "    \n",
    "The null hypothesis, that the mean test score is equal to 60, is not rejected.\n",
    "    \n",
    "The null hypothesis, that the mean test score is less than 60, is rejected.\n",
    "    \n",
    "The null hypothesis, that the mean test score is less than 60, is not rejected.\n",
    "    \n",
    "#### Answer: The null hypothesis, that the mean test score is equal to 60, is not rejected."
   ]
  },
  {
   "cell_type": "code",
   "execution_count": 7,
   "id": "7461c1ee",
   "metadata": {},
   "outputs": [
    {
     "name": "stdout",
     "output_type": "stream",
     "text": [
      "T statistic: 1.343501592923275\n",
      "P-value: 0.21200020507950157\n",
      "Fail to reject the null hypothesis\n"
     ]
    }
   ],
   "source": [
    "import numpy as np\n",
    "from scipy import stats\n",
    "\n",
    "student_scores = np.array([55, 62, 67, 58, 63, 59, 61, 68, 60, 64])\n",
    "mu = 60\n",
    "x_bar = np.mean(student_scores)\n",
    "s = np.std(student_scores, ddof=1)\n",
    "n = len(student_scores)\n",
    "alpha = 0.05\n",
    "t_stat = (x_bar - mu) / (s / np.sqrt(n))\n",
    "p_value = stats.t.cdf(t_stat, df=n-1) if t_stat < 0 else (1 - stats.t.cdf(t_stat, df=n-1))\n",
    "p_value *= 2\n",
    "    '''In Python, *= is a compound assignment operator that performs multiplication and assignment\n",
    "    in a single step. Specifically, x *= y is equivalent to x = x * y.'''\n",
    "\n",
    "print(\"T statistic:\", t_stat)\n",
    "print(\"P-value:\", p_value)\n",
    "\n",
    "# Null hypothesis: The population mean score is equal to 60.\n",
    "# H_0: mu = 60\n",
    "\n",
    "if p_value < alpha:\n",
    "    print(\"Reject the null hypothesis\")\n",
    "else:\n",
    "    print(\"Fail to reject the null hypothesis\")\n"
   ]
  },
  {
   "cell_type": "markdown",
   "id": "2190fdbb",
   "metadata": {},
   "source": [
    "## 6. Which statement best describes inferential statistics within the context of Python's data analysis?\n",
    "\n",
    "Inferential statistics is a branch of sample statistics.\n",
    "\n",
    "Inferential statistics is used to make predictions or comparisons about a larger group (a population) using information gathered about a small part of that population.\n",
    "\n",
    "Inferential statistics is the main analysis of machine learning.\n",
    "\n",
    "Inferential statistics is used to formulate statistical models which make conclusions about sample statistics.\n",
    "\n",
    "#### Answer: Inferential statistics is used to make predictions or comparisons about a larger group (a population) using information gathered about a small part of that population."
   ]
  },
  {
   "cell_type": "markdown",
   "id": "2716a5ac",
   "metadata": {},
   "source": [
    "## 7.What distribution is used when the sample size (n) is small and/or when the population standard deviation is unknown?\n",
    "\n",
    "Binomial distribution\n",
    "\n",
    "F-distribution\n",
    "\n",
    "Normal distribution\n",
    "\n",
    "t-distribution\n",
    "\n",
    "#### Answer: t-distribution"
   ]
  },
  {
   "cell_type": "markdown",
   "id": "455e6d5c",
   "metadata": {},
   "source": [
    "## 8. Foodland shoppers have a mean grocery bill of R370 with a standard deviation of R100. What is the probability that a sample of 40 Foodland shoppers will have a mean grocery bill of over R400?\n",
    "\n",
    "0.0\n",
    "\n",
    "0.029\n",
    "\n",
    "0.9713\n",
    "\n",
    "0.3821\n",
    "\n",
    "#### Answer: 0.029"
   ]
  },
  {
   "cell_type": "code",
   "execution_count": 9,
   "id": "db80ac53",
   "metadata": {},
   "outputs": [
    {
     "name": "stdout",
     "output_type": "stream",
     "text": [
      "Probability sample 40 and a mean grocery bill of over R400: 0.028889785561798664\n"
     ]
    }
   ],
   "source": [
    "import scipy.stats as stats\n",
    "\n",
    "# Given data\n",
    "mu = 370  # Population mean\n",
    "sigma = 100  # Population standard deviation\n",
    "n = 40  # Sample size\n",
    "x_bar = 400  # Sample mean of interest\n",
    "\n",
    "# Calculate the standard error of the mean (SEM)\n",
    "SEM = sigma / (n ** 0.5)\n",
    "\n",
    "# Calculate the z-score\n",
    "z = (x_bar - mu) / SEM\n",
    "\n",
    "# Find the probability using the cumulative distribution function (CDF) of the standard normal distribution\n",
    "probability = 1 - stats.norm.cdf(z)\n",
    "\n",
    "print(\"Probability sample 40 and a mean grocery bill of over R400:\", probability)\n"
   ]
  },
  {
   "cell_type": "markdown",
   "id": "18194b57",
   "metadata": {},
   "source": [
    "## 9. Assuming the number of customers arriving at a cafe per hour follows a Poisson distribution with a mean (λ) of 8, what is the probability of serving exactly 6 customers in an hour? Use Python's scipy.stats.poisson module for the calculation.\n",
    "\n",
    "\n",
    "0.10326\n",
    "\n",
    "0.14037\n",
    "\n",
    "0.12214\n",
    "\n",
    "0.10081\n",
    "\n",
    "#### Answer: 0.12214"
   ]
  },
  {
   "cell_type": "code",
   "execution_count": 10,
   "id": "47b5f5d6",
   "metadata": {},
   "outputs": [
    {
     "name": "stdout",
     "output_type": "stream",
     "text": [
      "Probability of serving exactly 6 customers in an hour: 0.12213821545677205\n"
     ]
    }
   ],
   "source": [
    "from scipy.stats import poisson\n",
    "\n",
    "# Given data\n",
    "Customer_mean = 8  # Mean number of customers arriving per hour\n",
    "No_customers = 6  # Number of customers to serve\n",
    "\n",
    "# Calculate the probability using the pmf (probability mass function) of the Poisson distribution\n",
    "probability = poisson.pmf(No_customers , Customer_mean)\n",
    "\n",
    "print(\"Probability of serving exactly 6 customers in an hour:\", probability)\n"
   ]
  },
  {
   "cell_type": "markdown",
   "id": "3c858605",
   "metadata": {},
   "source": [
    "## 10. Given a population with a mean of 100 and a standard deviation of 15, you sample 30 items. What is the probability that the sample mean will be less than 95? Use Python's scipy.stats.norm module to calculate the probability.\n",
    "\n",
    "\n",
    "0.02275\n",
    "\n",
    "0.03394\n",
    "\n",
    "0.30854\n",
    "\n",
    "0.15865\n",
    "\n",
    "#### Answer:0.03394"
   ]
  },
  {
   "cell_type": "code",
   "execution_count": 11,
   "id": "0682b9f8",
   "metadata": {},
   "outputs": [
    {
     "name": "stdout",
     "output_type": "stream",
     "text": [
      "Probability that the sample mean will be less than 95: 0.033944577430914495\n"
     ]
    }
   ],
   "source": [
    "import scipy.stats as stats\n",
    "\n",
    "# Given data\n",
    "mu = 100  # Population mean\n",
    "sigma = 15  # Population standard deviation\n",
    "n = 30  # Sample size\n",
    "x_bar = 95  # Sample mean of interest\n",
    "\n",
    "# Calculate the standard error of the mean (SEM)\n",
    "SEM = sigma / (n ** 0.5)\n",
    "\n",
    "# Calculate the z-score\n",
    "z = (x_bar - mu) / SEM\n",
    "\n",
    "# Find the probability using the cumulative distribution function (CDF) of the standard normal distribution\n",
    "probability = stats.norm.cdf(z)\n",
    "\n",
    "print(\"Probability that the sample mean will be less than 95:\", probability)\n"
   ]
  },
  {
   "cell_type": "code",
   "execution_count": null,
   "id": "d3ee6661",
   "metadata": {},
   "outputs": [],
   "source": []
  }
 ],
 "metadata": {
  "kernelspec": {
   "display_name": "Python 3 (ipykernel)",
   "language": "python",
   "name": "python3"
  },
  "language_info": {
   "codemirror_mode": {
    "name": "ipython",
    "version": 3
   },
   "file_extension": ".py",
   "mimetype": "text/x-python",
   "name": "python",
   "nbconvert_exporter": "python",
   "pygments_lexer": "ipython3",
   "version": "3.11.5"
  }
 },
 "nbformat": 4,
 "nbformat_minor": 5
}
